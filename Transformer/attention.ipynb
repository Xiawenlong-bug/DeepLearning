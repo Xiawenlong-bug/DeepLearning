{
 "cells": [
  {
   "cell_type": "code",
   "execution_count": 2,
   "metadata": {},
   "outputs": [],
   "source": [
    "import torch\n",
    "from torch import nn\n",
    "import torch.functional as F\n",
    "import math"
   ]
  },
  {
   "cell_type": "code",
   "execution_count": 3,
   "metadata": {},
   "outputs": [
    {
     "name": "stdout",
     "output_type": "stream",
     "text": [
      "torch.Size([128, 64, 512])\n"
     ]
    }
   ],
   "source": [
    "X=torch.randn(128,64,512)\n",
    "print (X.shape)"
   ]
  },
  {
   "cell_type": "code",
   "execution_count": 4,
   "metadata": {},
   "outputs": [],
   "source": [
    "d_model=512\n",
    "n_head=8"
   ]
  },
  {
   "cell_type": "code",
   "execution_count": 5,
   "metadata": {},
   "outputs": [],
   "source": [
    "class multi_head_attention(nn.Module):\n",
    "    def __init__(self,d_model,n_head)->None:\n",
    "        super(multi_head_attention,self).__init__()\n",
    "        self.d_model=d_model\n",
    "        self.n_head=n_head\n",
    "        self.w_q=nn.Linear(d_model,d_model)\n",
    "        self.w_k=nn.Linear(d_model,d_model)\n",
    "        self.w_v=nn.Linear(d_model,d_model)\n",
    "        self.w_combine=nn.Linear(d_model,d_model)\n",
    "        self.softmax=nn.Linear(dim=-1)\n",
    "\n",
    "    def forward(self,q,k,v):\n",
    "        batch,time,dimention=q.shape\n",
    "        n_d=self.d_model//self.n_head\n",
    "        q,k,v=self.w_q(q),self.w_k(k),self.w_v(v)\n",
    "\n",
    "        q=q.view(batch,time,self.n_head)"
   ]
  }
 ],
 "metadata": {
  "kernelspec": {
   "display_name": "pythonProject",
   "language": "python",
   "name": "python3"
  },
  "language_info": {
   "codemirror_mode": {
    "name": "ipython",
    "version": 3
   },
   "file_extension": ".py",
   "mimetype": "text/x-python",
   "name": "python",
   "nbconvert_exporter": "python",
   "pygments_lexer": "ipython3",
   "version": "3.11.5"
  }
 },
 "nbformat": 4,
 "nbformat_minor": 2
}
